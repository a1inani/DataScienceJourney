{
 "cells": [
  {
   "cell_type": "markdown",
   "id": "f39b58cf",
   "metadata": {},
   "source": [
    "# Practice\n",
    "\n",
    "- Create a 5x5 NumPy array with random integers between 10 - 99"
   ]
  },
  {
   "cell_type": "code",
   "execution_count": 25,
   "id": "f01c5953",
   "metadata": {},
   "outputs": [
    {
     "name": "stdout",
     "output_type": "stream",
     "text": [
      "[[43 73 91 25 10]\n",
      " [73 74 76 79 56]\n",
      " [56 13 79 77 66]\n",
      " [28 15 95 47 24]\n",
      " [90 44 66 45 98]]\n"
     ]
    }
   ],
   "source": [
    "import numpy as np\n",
    "\n",
    "arr = np.random.randint(10, 99, size=(5, 5))\n",
    "print(arr)"
   ]
  },
  {
   "cell_type": "markdown",
   "id": "333fc007",
   "metadata": {},
   "source": [
    "- Compute row-wise and column-wise sums"
   ]
  },
  {
   "cell_type": "code",
   "execution_count": 28,
   "id": "2c864e99",
   "metadata": {},
   "outputs": [
    {
     "name": "stdout",
     "output_type": "stream",
     "text": [
      "Row 1 sum: 242\n",
      "Row 2 sum: 358\n",
      "Row 3 sum: 291\n",
      "Row 4 sum: 209\n",
      "Row 5 sum: 343\n",
      "Column 1 sum: 290\n",
      "Column 2 sum: 219\n",
      "Column 3 sum: 407\n",
      "Column 4 sum: 273\n",
      "Column 5 sum: 254\n"
     ]
    }
   ],
   "source": [
    "count = 1\n",
    "col1, col2, col3, col4, col5 = 0, 0, 0, 0, 0\n",
    "for i in arr:\n",
    "    print(f\"Row {count} sum: {sum(i)}\")\n",
    "    col1 += i[0]\n",
    "    col2 += i[1]\n",
    "    col3 += i[2]\n",
    "    col4 += i[3]\n",
    "    col5 += i[4]\n",
    "    count += 1\n",
    "print(f\"Column 1 sum: {col1}\")\n",
    "print(f\"Column 2 sum: {col2}\")\n",
    "print(f\"Column 3 sum: {col3}\")\n",
    "print(f\"Column 4 sum: {col4}\")\n",
    "print(f\"Column 5 sum: {col5}\")\n"
   ]
  }
 ],
 "metadata": {
  "kernelspec": {
   "display_name": "Python 3",
   "language": "python",
   "name": "python3"
  },
  "language_info": {
   "codemirror_mode": {
    "name": "ipython",
    "version": 3
   },
   "file_extension": ".py",
   "mimetype": "text/x-python",
   "name": "python",
   "nbconvert_exporter": "python",
   "pygments_lexer": "ipython3",
   "version": "3.13.0"
  }
 },
 "nbformat": 4,
 "nbformat_minor": 5
}
