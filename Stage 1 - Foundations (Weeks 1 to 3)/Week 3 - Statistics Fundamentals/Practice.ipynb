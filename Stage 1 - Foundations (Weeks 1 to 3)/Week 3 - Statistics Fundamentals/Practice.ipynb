{
 "cells": [
  {
   "cell_type": "markdown",
   "id": "fc0740f0",
   "metadata": {},
   "source": [
    "- Write a function to compute mean, variance, and std dev from scratch (no numpy.mean)"
   ]
  },
  {
   "cell_type": "code",
   "execution_count": 61,
   "id": "ea9cb334",
   "metadata": {},
   "outputs": [
    {
     "name": "stdout",
     "output_type": "stream",
     "text": [
      "Mean: 6.5\n",
      "Variance: 4.75\n",
      "Std_dev: 2.179449471770337\n"
     ]
    }
   ],
   "source": [
    "import numpy as np\n",
    "import math\n",
    "\n",
    "def mean(arr):\n",
    "    return np.sum(arr)/len(arr)\n",
    "\n",
    "def variance(arr, mean):\n",
    "    var = 0\n",
    "    for i in arr:\n",
    "        diff = i-mean\n",
    "        var += diff*diff\n",
    "    return var/(len(arr)-1)\n",
    "\n",
    "def std_dev(variance):\n",
    "    return math.sqrt(variance)\n",
    "\n",
    "\n",
    "a = np.array([4, 7.5, 8])\n",
    "m = mean(a)\n",
    "print(f\"Mean: {m}\")\n",
    "var = variance(a, m)\n",
    "print(f\"Variance: {var}\")\n",
    "sd = std_dev(var)\n",
    "print(f\"Std_dev: {sd}\")"
   ]
  },
  {
   "cell_type": "markdown",
   "id": "728f13b9",
   "metadata": {},
   "source": [
    "- Simulate a coin flip and calculate the probability of getting 3 heads in 5 flips"
   ]
  },
  {
   "cell_type": "code",
   "execution_count": 66,
   "id": "b7b24068",
   "metadata": {},
   "outputs": [
    {
     "name": "stdout",
     "output_type": "stream",
     "text": [
      "The theoretical probability of getting 3 heads in 5 flips is: 0.3125\n"
     ]
    }
   ],
   "source": [
    "prob_head = 0.5\n",
    "prob_tail = 0.5\n",
    "\n",
    "def factorial(n):\n",
    "    if n==1:\n",
    "        return 1\n",
    "    return n*factorial(n-1)\n",
    "\n",
    "# Calculate the number of combinations\n",
    "\n",
    "combi = factorial(5)/(factorial(3)*factorial(5-3))\n",
    "\n",
    "# Calculate the probability of the specific sequence (e.g. HHHTT): p^k * q^(n-k)\n",
    "\n",
    "prob_seq = (prob_head**3)*(prob_tail**2)\n",
    "\n",
    "# Calculate the total probability\n",
    "\n",
    "probability = combi * prob_seq\n",
    "\n",
    "print(f\"The theoretical probability of getting 3 heads in 5 flips is: {probability}\")"
   ]
  },
  {
   "cell_type": "code",
   "execution_count": 70,
   "id": "77c3c1ed",
   "metadata": {},
   "outputs": [
    {
     "name": "stdout",
     "output_type": "stream",
     "text": [
      "Estimated probability of 3 heads in 5 flips: 0.3119\n"
     ]
    }
   ],
   "source": [
    "# Simulate 5 coin flips\n",
    "\n",
    "trials = 1_000_000\n",
    "\n",
    "# 0 = Tail, 1 = Head\n",
    "flips = np.random.randint(0, 2, size=(trials, 5))\n",
    "\n",
    "# Count heads in each trial\n",
    "heads_count = flips.sum(axis=1)\n",
    "\n",
    "# Calculate the probability of exactly 3 heads\n",
    "probability = np.mean(heads_count == 3)\n",
    "\n",
    "print(f\"Estimated probability of 3 heads in 5 flips: {probability:.4f}\")"
   ]
  }
 ],
 "metadata": {
  "kernelspec": {
   "display_name": "Python 3",
   "language": "python",
   "name": "python3"
  },
  "language_info": {
   "codemirror_mode": {
    "name": "ipython",
    "version": 3
   },
   "file_extension": ".py",
   "mimetype": "text/x-python",
   "name": "python",
   "nbconvert_exporter": "python",
   "pygments_lexer": "ipython3",
   "version": "3.13.0"
  }
 },
 "nbformat": 4,
 "nbformat_minor": 5
}
