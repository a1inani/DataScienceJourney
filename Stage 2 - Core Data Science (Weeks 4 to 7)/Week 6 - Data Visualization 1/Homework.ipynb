{
 "cells": [
  {
   "cell_type": "markdown",
   "id": "cf7f9b41",
   "metadata": {},
   "source": [
    "## Homework\n",
    "\n",
    "- Create a seaborn heatmap of correlations (numeric columns only). \n",
    "- Write a 1-paragraph summary of insights."
   ]
  },
  {
   "cell_type": "code",
   "execution_count": 9,
   "id": "1de47cc6",
   "metadata": {},
   "outputs": [
    {
     "data": {
      "text/html": [
       "<div>\n",
       "<style scoped>\n",
       "    .dataframe tbody tr th:only-of-type {\n",
       "        vertical-align: middle;\n",
       "    }\n",
       "\n",
       "    .dataframe tbody tr th {\n",
       "        vertical-align: top;\n",
       "    }\n",
       "\n",
       "    .dataframe thead th {\n",
       "        text-align: right;\n",
       "    }\n",
       "</style>\n",
       "<table border=\"1\" class=\"dataframe\">\n",
       "  <thead>\n",
       "    <tr style=\"text-align: right;\">\n",
       "      <th></th>\n",
       "      <th>survived</th>\n",
       "      <th>pclass</th>\n",
       "      <th>age</th>\n",
       "      <th>sibsp</th>\n",
       "      <th>parch</th>\n",
       "      <th>fare</th>\n",
       "    </tr>\n",
       "  </thead>\n",
       "  <tbody>\n",
       "    <tr>\n",
       "      <th>survived</th>\n",
       "      <td>1.000000</td>\n",
       "      <td>-0.332658</td>\n",
       "      <td>-0.086548</td>\n",
       "      <td>-0.036589</td>\n",
       "      <td>0.070307</td>\n",
       "      <td>0.246769</td>\n",
       "    </tr>\n",
       "    <tr>\n",
       "      <th>pclass</th>\n",
       "      <td>-0.332658</td>\n",
       "      <td>1.000000</td>\n",
       "      <td>-0.369361</td>\n",
       "      <td>0.088014</td>\n",
       "      <td>0.040296</td>\n",
       "      <td>-0.549216</td>\n",
       "    </tr>\n",
       "    <tr>\n",
       "      <th>age</th>\n",
       "      <td>-0.086548</td>\n",
       "      <td>-0.369361</td>\n",
       "      <td>1.000000</td>\n",
       "      <td>-0.315116</td>\n",
       "      <td>-0.195036</td>\n",
       "      <td>0.092707</td>\n",
       "    </tr>\n",
       "    <tr>\n",
       "      <th>sibsp</th>\n",
       "      <td>-0.036589</td>\n",
       "      <td>0.088014</td>\n",
       "      <td>-0.315116</td>\n",
       "      <td>1.000000</td>\n",
       "      <td>0.381433</td>\n",
       "      <td>0.135147</td>\n",
       "    </tr>\n",
       "    <tr>\n",
       "      <th>parch</th>\n",
       "      <td>0.070307</td>\n",
       "      <td>0.040296</td>\n",
       "      <td>-0.195036</td>\n",
       "      <td>0.381433</td>\n",
       "      <td>1.000000</td>\n",
       "      <td>0.191942</td>\n",
       "    </tr>\n",
       "    <tr>\n",
       "      <th>fare</th>\n",
       "      <td>0.246769</td>\n",
       "      <td>-0.549216</td>\n",
       "      <td>0.092707</td>\n",
       "      <td>0.135147</td>\n",
       "      <td>0.191942</td>\n",
       "      <td>1.000000</td>\n",
       "    </tr>\n",
       "  </tbody>\n",
       "</table>\n",
       "</div>"
      ],
      "text/plain": [
       "          survived    pclass       age     sibsp     parch      fare\n",
       "survived  1.000000 -0.332658 -0.086548 -0.036589  0.070307  0.246769\n",
       "pclass   -0.332658  1.000000 -0.369361  0.088014  0.040296 -0.549216\n",
       "age      -0.086548 -0.369361  1.000000 -0.315116 -0.195036  0.092707\n",
       "sibsp    -0.036589  0.088014 -0.315116  1.000000  0.381433  0.135147\n",
       "parch     0.070307  0.040296 -0.195036  0.381433  1.000000  0.191942\n",
       "fare      0.246769 -0.549216  0.092707  0.135147  0.191942  1.000000"
      ]
     },
     "execution_count": 9,
     "metadata": {},
     "output_type": "execute_result"
    }
   ],
   "source": [
    "import pandas as pd\n",
    "import seaborn as sns\n",
    "\n",
    "dataset = sns.load_dataset('titanic')\n",
    "df = pd.DataFrame(dataset)\n",
    "df.drop_duplicates(inplace=True)\n",
    "\n",
    "new_df = df[['survived', 'pclass', 'age', 'sibsp', 'parch', 'fare']].copy()\n",
    "new_df.corr()"
   ]
  },
  {
   "cell_type": "markdown",
   "id": "b89c2808",
   "metadata": {},
   "source": [
    "Survived and pclass, age, parch and fare have weak to very weak correlations, a change in one is unlinkely to cause a significant change in the other. It seems like none of the columns have a good correlation between them."
   ]
  }
 ],
 "metadata": {
  "kernelspec": {
   "display_name": "Python 3",
   "language": "python",
   "name": "python3"
  },
  "language_info": {
   "codemirror_mode": {
    "name": "ipython",
    "version": 3
   },
   "file_extension": ".py",
   "mimetype": "text/x-python",
   "name": "python",
   "nbconvert_exporter": "python",
   "pygments_lexer": "ipython3",
   "version": "3.13.0"
  }
 },
 "nbformat": 4,
 "nbformat_minor": 5
}
