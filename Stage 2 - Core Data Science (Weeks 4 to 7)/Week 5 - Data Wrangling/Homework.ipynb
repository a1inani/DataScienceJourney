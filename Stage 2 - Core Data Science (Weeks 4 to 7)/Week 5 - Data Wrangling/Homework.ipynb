{
 "cells": [
  {
   "cell_type": "markdown",
   "id": "35b14548",
   "metadata": {},
   "source": [
    "# Homework\n",
    "\n",
    "- Add a new column \"FamilySize\" = SibSp + Parch + 1\n",
    "- Analyze survival rate by family size."
   ]
  },
  {
   "cell_type": "code",
   "execution_count": 5,
   "id": "9e779be4",
   "metadata": {},
   "outputs": [
    {
     "name": "stdout",
     "output_type": "stream",
     "text": [
      "     survived  pclass     sex   age  sibsp  parch     fare embarked  class  \\\n",
      "0           0       3    male  22.0      1      0   7.2500        S  Third   \n",
      "1           1       1  female  38.0      1      0  71.2833        C  First   \n",
      "2           1       3  female  26.0      0      0   7.9250        S  Third   \n",
      "3           1       1  female  35.0      1      0  53.1000        S  First   \n",
      "4           0       3    male  35.0      0      0   8.0500        S  Third   \n",
      "..        ...     ...     ...   ...    ...    ...      ...      ...    ...   \n",
      "885         0       3  female  39.0      0      5  29.1250        Q  Third   \n",
      "887         1       1  female  19.0      0      0  30.0000        S  First   \n",
      "888         0       3  female   NaN      1      2  23.4500        S  Third   \n",
      "889         1       1    male  26.0      0      0  30.0000        C  First   \n",
      "890         0       3    male  32.0      0      0   7.7500        Q  Third   \n",
      "\n",
      "       who  adult_male deck  embark_town alive  alone  FamilySize  \n",
      "0      man        True  NaN  Southampton    no  False           2  \n",
      "1    woman       False    C    Cherbourg   yes  False           2  \n",
      "2    woman       False  NaN  Southampton   yes   True           1  \n",
      "3    woman       False    C  Southampton   yes  False           2  \n",
      "4      man        True  NaN  Southampton    no   True           1  \n",
      "..     ...         ...  ...          ...   ...    ...         ...  \n",
      "885  woman       False  NaN   Queenstown    no  False           6  \n",
      "887  woman       False    B  Southampton   yes   True           1  \n",
      "888  woman       False  NaN  Southampton    no  False           4  \n",
      "889    man        True    C    Cherbourg   yes   True           1  \n",
      "890    man        True  NaN   Queenstown    no   True           1  \n",
      "\n",
      "[784 rows x 16 columns]\n"
     ]
    }
   ],
   "source": [
    "import pandas as pd\n",
    "import seaborn as sns\n",
    "\n",
    "dataset = sns.load_dataset(\"titanic\")\n",
    "df = pd.DataFrame(dataset)\n",
    "\n",
    "df.drop_duplicates(inplace=True)\n",
    "\n",
    "# Add a new column\n",
    "df['FamilySize'] = df['sibsp'] + df['parch'] + 1\n",
    "\n",
    "print(df)"
   ]
  },
  {
   "cell_type": "code",
   "execution_count": 24,
   "id": "5f7cd452",
   "metadata": {},
   "outputs": [
    {
     "name": "stdout",
     "output_type": "stream",
     "text": [
      "The survival rate of a family of 1 is 46.44%\n",
      "The survival rate of a family of 2 is 26.32%\n",
      "The survival rate of a family of 3 is 17.96%\n",
      "The survival rate of a family of 4 is 6.19%\n",
      "The survival rate of a family of 5 is 0.93%\n",
      "The survival rate of a family of 6 is 0.93%\n",
      "The survival rate of a family of 7 is 1.24%\n"
     ]
    }
   ],
   "source": [
    "# Analyze survival rate by family size\n",
    "\n",
    "# Find the largest family size\n",
    "max_fam_size = df['FamilySize'].max()\n",
    "\n",
    "# Create a dictionary that will accomodate the counts\n",
    "survival_counts = {}\n",
    "for i in range(1, max_fam_size+1):\n",
    "    survival_counts[i] = 0\n",
    "\n",
    "total_survivors = 0\n",
    "\n",
    "for i in df.index:\n",
    "    survival_counts[df.loc[i, 'FamilySize']] = survival_counts[df.loc[i, 'FamilySize']] + df.loc[i, 'survived']\n",
    "    if df.loc[i, 'survived'] == 1:\n",
    "        total_survivors += 1\n",
    "\n",
    "# Count survivors\n",
    "\n",
    "for i in range(1, max_fam_size+1):\n",
    "    if survival_counts[i] != 0:\n",
    "        print(f\"The survival rate of a family of {i} is {round((survival_counts[i]/total_survivors)*100, 2)}%\")"
   ]
  }
 ],
 "metadata": {
  "kernelspec": {
   "display_name": "Python 3",
   "language": "python",
   "name": "python3"
  },
  "language_info": {
   "codemirror_mode": {
    "name": "ipython",
    "version": 3
   },
   "file_extension": ".py",
   "mimetype": "text/x-python",
   "name": "python",
   "nbconvert_exporter": "python",
   "pygments_lexer": "ipython3",
   "version": "3.13.0"
  }
 },
 "nbformat": 4,
 "nbformat_minor": 5
}
