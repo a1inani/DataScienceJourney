{
 "cells": [
  {
   "cell_type": "markdown",
   "id": "bae8147d",
   "metadata": {},
   "source": [
    "# Practice\n",
    "\n",
    "- Group Titanic Passengers by class and calculate average age\n",
    "- Handle missing ages by filling with median"
   ]
  },
  {
   "cell_type": "code",
   "execution_count": 24,
   "id": "486e9f9f",
   "metadata": {},
   "outputs": [
    {
     "name": "stdout",
     "output_type": "stream",
     "text": [
      "         mean_age\n",
      "class            \n",
      "First   38.310378\n",
      "Second  29.898302\n",
      "Third   25.180150\n",
      "\n",
      "The median age of this dataset is: 28.25\n"
     ]
    }
   ],
   "source": [
    "import pandas as pd\n",
    "import seaborn as sns\n",
    "\n",
    "dataset = sns.load_dataset('titanic')\n",
    "df = pd.DataFrame(dataset)\n",
    "\n",
    "# Remove duplicated entries\n",
    "df.drop_duplicates(inplace=True)\n",
    "\n",
    "# Group Titanic Passengers by class\n",
    "grouped_df = df.groupby('class', observed=True).agg(\n",
    "    mean_age=('age', 'mean')\n",
    ")\n",
    "print(grouped_df)\n",
    "\n",
    "print()\n",
    "\n",
    "median_age = df['age'].median()\n",
    "print(f\"The median age of this dataset is: {median_age}\")\n",
    "\n",
    "# Replace missing ages with median\n",
    "df.fillna({\"age\" : median_age}, inplace = True)"
   ]
  }
 ],
 "metadata": {
  "kernelspec": {
   "display_name": "Python 3",
   "language": "python",
   "name": "python3"
  },
  "language_info": {
   "codemirror_mode": {
    "name": "ipython",
    "version": 3
   },
   "file_extension": ".py",
   "mimetype": "text/x-python",
   "name": "python",
   "nbconvert_exporter": "python",
   "pygments_lexer": "ipython3",
   "version": "3.13.0"
  }
 },
 "nbformat": 4,
 "nbformat_minor": 5
}
