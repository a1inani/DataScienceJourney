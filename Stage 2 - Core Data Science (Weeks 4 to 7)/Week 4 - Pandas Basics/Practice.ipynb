{
 "cells": [
  {
   "cell_type": "markdown",
   "id": "46fc05bc",
   "metadata": {},
   "source": [
    "# Practice\n",
    "\n",
    "- Load Titanic dataset (seaborn.load_dataset(\"titanic\"))\n",
    "- Print survival counts by gender"
   ]
  },
  {
   "cell_type": "code",
   "execution_count": 2,
   "id": "6b518d08",
   "metadata": {},
   "outputs": [
    {
     "name": "stdout",
     "output_type": "stream",
     "text": [
      "Survival counts by gender\n",
      "Male: 106\n",
      "Female: 217\n"
     ]
    }
   ],
   "source": [
    "import seaborn as sns\n",
    "import pandas as pd\n",
    "\n",
    "dataset = sns.load_dataset('titanic')\n",
    "df = pd.DataFrame(dataset)\n",
    "df.drop_duplicates(inplace=True)\n",
    "male = 0\n",
    "female = 0\n",
    "for x in df.index:\n",
    "    if df.loc[x, \"sex\"] == \"male\" and df.loc[x, 'survived'] == 1:\n",
    "        male += 1\n",
    "    elif df.loc[x, \"sex\"] == \"female\" and df.loc[x, 'survived'] == 1:\n",
    "        female += 1\n",
    "print(\"Survival counts by gender\")\n",
    "print(f\"Male: {male}\")\n",
    "print(f\"Female: {female}\")"
   ]
  }
 ],
 "metadata": {
  "kernelspec": {
   "display_name": "Python 3",
   "language": "python",
   "name": "python3"
  },
  "language_info": {
   "codemirror_mode": {
    "name": "ipython",
    "version": 3
   },
   "file_extension": ".py",
   "mimetype": "text/x-python",
   "name": "python",
   "nbconvert_exporter": "python",
   "pygments_lexer": "ipython3",
   "version": "3.13.0"
  }
 },
 "nbformat": 4,
 "nbformat_minor": 5
}
