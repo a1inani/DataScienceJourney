{
 "cells": [
  {
   "cell_type": "markdown",
   "id": "d7d212b4",
   "metadata": {},
   "source": [
    "# Homework\n",
    "\n",
    "- Find top 3 common embarkation ports\n",
    "- Compute survival rate by passenger class"
   ]
  },
  {
   "cell_type": "code",
   "execution_count": 23,
   "id": "0f64db86",
   "metadata": {},
   "outputs": [
    {
     "name": "stdout",
     "output_type": "stream",
     "text": [
      "Top 3 common embarkation ports\n",
      "Southampton: 644\n",
      "Cherbourg: 168\n",
      "Queenstown: 77\n"
     ]
    }
   ],
   "source": [
    "import pandas as pd\n",
    "import seaborn as sns\n",
    "\n",
    "dataset = sns.load_dataset('titanic')\n",
    "df = pd.DataFrame(dataset)\n",
    "embarkation_ports = []\n",
    "for x in df.index:\n",
    "    embarkation_ports.append(df.loc[x, \"embark_town\"])\n",
    "\n",
    "port_counts = {}\n",
    "for port in embarkation_ports:\n",
    "    if port in port_counts:\n",
    "        port_counts[port] += 1\n",
    "    else:\n",
    "        port_counts[port] = 1\n",
    "while len(port_counts) > 3:\n",
    "    port_counts.popitem()\n",
    "\n",
    "print(\"Top 3 common embarkation ports\")\n",
    "for i in port_counts:\n",
    "    print(f\"{i}: {port_counts[i]}\")"
   ]
  },
  {
   "cell_type": "code",
   "execution_count": 27,
   "id": "7e18ff71",
   "metadata": {},
   "outputs": [
    {
     "name": "stdout",
     "output_type": "stream",
     "text": [
      "Survival rate by passenger class\n",
      "First: 136 (39.8%)\n",
      "Third: 119 (34.8%)\n",
      "Second: 87 (25.4%)\n"
     ]
    }
   ],
   "source": [
    "# Compute survival rate by passenger class\n",
    "\n",
    "survival_rate_by_class = {}\n",
    "total = 0\n",
    "for x in df.index:\n",
    "    if df.loc[x, 'survived'] == 1:\n",
    "        if df.loc[x, \"class\"] in survival_rate_by_class:\n",
    "            survival_rate_by_class[df.loc[x, \"class\"]] += 1\n",
    "            total += 1\n",
    "        else:\n",
    "            survival_rate_by_class[df.loc[x, \"class\"]] = 1\n",
    "            total += 1\n",
    "print(\"Survival rate by passenger class\")\n",
    "for i in survival_rate_by_class:\n",
    "    print(f\"{i}: {survival_rate_by_class[i]} ({(survival_rate_by_class[i]/total)*100:.1f}%)\")"
   ]
  }
 ],
 "metadata": {
  "kernelspec": {
   "display_name": "Python 3",
   "language": "python",
   "name": "python3"
  },
  "language_info": {
   "codemirror_mode": {
    "name": "ipython",
    "version": 3
   },
   "file_extension": ".py",
   "mimetype": "text/x-python",
   "name": "python",
   "nbconvert_exporter": "python",
   "pygments_lexer": "ipython3",
   "version": "3.13.0"
  }
 },
 "nbformat": 4,
 "nbformat_minor": 5
}
